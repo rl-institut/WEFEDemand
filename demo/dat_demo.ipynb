{
 "cells": [
  {
   "metadata": {},
   "cell_type": "markdown",
   "source": "# Example use of OptiMG DAT RAMP model",
   "id": "8cc5b81ed0be438d"
  },
  {
   "metadata": {},
   "cell_type": "markdown",
   "source": [
    "## Input data\n",
    "- Input is provided as dict and must be generate in the previous steps of the DAT from survey response data\n",
    "- Each user (e.g. household, business, farm...) has a entry in the input data dict.\n",
    "- From each survey response one user entry should be generated\n",
    "- With each user entry contains a dict with information specific to one of the five demands (electrical appliances, agro-processing, cooking, drinking water, service water). If the user does not have the corresponding demand, an empty dict must be passed.\n",
    "- A dict containing admin data must be provided."
   ],
   "id": "41237a5b58dc1dc9"
  },
  {
   "metadata": {},
   "cell_type": "code",
   "source": [
    "from input.complete_input import input_dict\n",
    "from input.admin_input import admin_input"
   ],
   "id": "8a70f2e248c95a16",
   "outputs": [],
   "execution_count": null
  },
  {
   "metadata": {},
   "cell_type": "markdown",
   "source": [
    "## Create instance of RampControl\n",
    "- RampControl contains the custom RAMP model for all 5 demands.\n",
    "- A start date (in datetime string format: e.g. '2018-01-01') and the number of days to model must be specified."
   ],
   "id": "5abbaa58c7218b0"
  },
  {
   "metadata": {},
   "cell_type": "code",
   "source": [
    "from ramp_model.ramp_control import RampControl\n",
    "ramp_control = RampControl(365, '2018-01-01')"
   ],
   "id": "a9e202ff45df9ed1",
   "outputs": [],
   "execution_count": null
  },
  {
   "metadata": {},
   "cell_type": "markdown",
   "source": [
    "## Generate demand profiles\n",
    "- All functions to pass input data to the RAMP model and to run the model are combined in one function for application in OptiMG.\n",
    "- It returns a multi-level columns dataframe containing all modeled demand profiles (resampled to hourly resolution) with the following shape:\n",
    "- Demand name 1-5 (cooking, drinking water...) -> User A, B, C... -> Demand (e.g. individual electrical appliance, irrigation water, lunch cooking...)\n",
    "- Users and individual demand names correspond to passed names in input dict"
   ],
   "id": "14593a696420b0be"
  },
  {
   "metadata": {},
   "cell_type": "code",
   "source": [
    "dat_output = ramp_control.run_opti_mg_dat(input_dict, admin_input)\n",
    "dat_output.head()"
   ],
   "id": "6382db81a22d843a",
   "outputs": [],
   "execution_count": null
  },
  {
   "metadata": {},
   "cell_type": "markdown",
   "source": [
    "## Exemplary plotting\n",
    "- Individual plot for each demand type"
   ],
   "id": "b3913c8812d421fc"
  },
  {
   "metadata": {},
   "cell_type": "code",
   "source": [
    "from helpers import plotting\n",
    "from plotly.subplots import make_subplots\n",
    "\n",
    "fig = make_subplots(rows=5, cols=1, shared_xaxes=True)\n",
    "\n",
    "i = 1  # Plotly subplot rows start at index 1\n",
    "for demand, df in dat_output.groupby(level=0, axis=1):\n",
    "    fig = plotting.plotly_high_res_df(fig, df=df, subplot_row=i)\n",
    "    i = i + 1\n",
    "    print(demand)\n",
    "\n",
    "fig.update_layout(autosize=True)\n",
    "\n",
    "fig.show_dash(mode='inline')"
   ],
   "id": "8bc8c6d6f6a3a39c",
   "outputs": [],
   "execution_count": null
  },
  {
   "metadata": {},
   "cell_type": "markdown",
   "source": [
    "## Aggregating demands\n",
    "- The individual demands can easily be aggregated as needed\n",
    "- For example by demand type (for water demands this might not be applicable because the individual demands might have different pumping heads. To be considered in preprocessing of system modeling)"
   ],
   "id": "3e298eef12b09f09"
  },
  {
   "metadata": {},
   "cell_type": "code",
   "source": [
    "agg_demand = dat_output.groupby(level=0, axis=1).sum()\n",
    "agg_demand.head()\n",
    "\n",
    "fig = make_subplots(rows=1, cols=1, shared_xaxes=True)\n",
    "fig = plotting.plotly_high_res_df(fig, df=agg_demand, subplot_row=1)\n",
    "fig.show_dash(mode='inline')"
   ],
   "id": "b3e9fc7a1bf2b7b4",
   "outputs": [],
   "execution_count": null
  },
  {
   "metadata": {},
   "cell_type": "code",
   "source": "",
   "id": "d3123bae5cae1404",
   "outputs": [],
   "execution_count": null
  }
 ],
 "metadata": {
  "kernelspec": {
   "display_name": "Python 3",
   "language": "python",
   "name": "python3"
  },
  "language_info": {
   "codemirror_mode": {
    "name": "ipython",
    "version": 2
   },
   "file_extension": ".py",
   "mimetype": "text/x-python",
   "name": "python",
   "nbconvert_exporter": "python",
   "pygments_lexer": "ipython2",
   "version": "2.7.6"
  }
 },
 "nbformat": 4,
 "nbformat_minor": 5
}
